{
  "nbformat": 4,
  "nbformat_minor": 0,
  "metadata": {
    "colab": {
      "provenance": [],
      "gpuType": "T4"
    },
    "kernelspec": {
      "name": "python3",
      "display_name": "Python 3"
    },
    "language_info": {
      "name": "python"
    },
    "accelerator": "GPU"
  },
  "cells": [
    {
      "cell_type": "code",
      "source": [
        "!pip install -q transformers peft datasets evaluate sentencepiece optuna\n",
        "\n",
        "\n",
        "# 1) Mount Google Drive (Colab only; omit if running locally)\n",
        "from google.colab import drive\n",
        "drive.mount('/content/drive')\n",
        "\n",
        "from transformers import T5Tokenizer, T5ForConditionalGeneration\n",
        "from peft import PeftModel\n",
        "import torch\n",
        "\n",
        "device = torch.device(\"cuda\" if torch.cuda.is_available() else \"cpu\")\n",
        "\n",
        "tokenizer = T5Tokenizer.from_pretrained(\"t5-small\")\n",
        "base_model = T5ForConditionalGeneration.from_pretrained(\"t5-small\")\n",
        "model = PeftModel.from_pretrained(base_model, \"/content/drive/MyDrive/Saved Models/best_model_lora\")\n",
        "model.to(device)\n",
        "model.eval()"
      ],
      "metadata": {
        "id": "FejNSfOo8EZB"
      },
      "execution_count": null,
      "outputs": []
    },
    {
      "cell_type": "code",
      "source": [
        "!pip install rouge_score --quiet\n",
        "\n",
        "import numpy as np\n",
        "import torch\n",
        "import evaluate\n",
        "from sklearn.metrics import f1_score\n",
        "\n",
        "# Load evaluation metrics\n",
        "rouge = evaluate.load(\"rouge\")\n",
        "bleu = evaluate.load(\"bleu\")\n",
        "\n",
        "import numpy as np\n",
        "import torch\n",
        "from sklearn.metrics import f1_score\n",
        "import evaluate\n",
        "\n",
        "# Load once (global scope)\n",
        "rouge = evaluate.load(\"rouge\")\n",
        "bleu = evaluate.load(\"bleu\")\n",
        "\n",
        "def compute_metrics(eval_pred):\n",
        "    predictions, labels = eval_pred\n",
        "    vocab_size = tokenizer.vocab_size\n",
        "\n",
        "    def flatten_and_clean(lst):\n",
        "        flat = []\n",
        "        for token in lst:\n",
        "            if isinstance(token, (list, np.ndarray, torch.Tensor)):\n",
        "                flat.extend(flatten_and_clean(token))\n",
        "            else:\n",
        "                try:\n",
        "                    token = int(token)\n",
        "                    if 0 <= token < vocab_size:\n",
        "                        flat.append(token)\n",
        "                except:\n",
        "                    continue\n",
        "        return flat\n",
        "\n",
        "    cleaned_preds = [flatten_and_clean(p) for p in predictions]\n",
        "    cleaned_labels = [flatten_and_clean(l) for l in labels]\n",
        "\n",
        "    decoded_preds = tokenizer.batch_decode(cleaned_preds, skip_special_tokens=True)\n",
        "    decoded_labels = tokenizer.batch_decode(cleaned_labels, skip_special_tokens=True)\n",
        "\n",
        "    # Trim to same length\n",
        "    n = min(len(decoded_preds), len(decoded_labels))\n",
        "    decoded_preds = [p.strip() for p in decoded_preds[:n]]\n",
        "    decoded_labels = [l.strip() for l in decoded_labels[:n]]\n",
        "\n",
        "    # Handle empty prediction edge case\n",
        "    safe_preds = [p if p else \"empty\" for p in decoded_preds]\n",
        "    safe_refs = [r if r else \"empty\" for r in decoded_labels]\n",
        "\n",
        "    # Compute metrics\n",
        "    rouge_result = rouge.compute(predictions=safe_preds, references=safe_refs)\n",
        "\n",
        "    try:\n",
        "        bleu_result = bleu.compute(predictions=safe_preds, references=[[ref] for ref in safe_refs])\n",
        "        bleu_score = bleu_result[\"bleu\"]\n",
        "    except ZeroDivisionError:\n",
        "        bleu_score = 0.0\n",
        "\n",
        "    exact_matches = [int(p == l) for p, l in zip(safe_preds, safe_refs)]\n",
        "    f1 = f1_score([1]*len(exact_matches), exact_matches, zero_division=0)\n",
        "    acc = np.mean(exact_matches)\n",
        "\n",
        "    return {\n",
        "        \"rouge1\": rouge_result[\"rouge1\"],\n",
        "        \"rouge2\": rouge_result[\"rouge2\"],\n",
        "        \"rougeL\": rouge_result[\"rougeL\"],\n",
        "        \"bleu\": bleu_score,\n",
        "        \"f1\": f1,\n",
        "        \"accuracy\": acc\n",
        "    }\n"
      ],
      "metadata": {
        "id": "Qg-YKpebHMxu"
      },
      "execution_count": null,
      "outputs": []
    },
    {
      "cell_type": "code",
      "source": [
        "from datasets import load_dataset\n",
        "\n",
        "test_dataset = load_dataset(\"cnn_dailymail\", \"3.0.0\", split=\"test[:1000]\")\n",
        "\n",
        "def preprocess(example):\n",
        "    input_text = \"summarize: \" + example[\"article\"]\n",
        "    target_text = example[\"highlights\"]\n",
        "    model_inputs = tokenizer(\n",
        "        input_text, max_length=512, padding=\"max_length\", truncation=True, return_tensors=\"pt\"\n",
        "    )\n",
        "    labels = tokenizer(\n",
        "        target_text, max_length=128, padding=\"max_length\", truncation=True, return_tensors=\"pt\"\n",
        "    )\n",
        "    return {\n",
        "        \"input_ids\": model_inputs[\"input_ids\"].squeeze(),\n",
        "        \"attention_mask\": model_inputs[\"attention_mask\"].squeeze(),\n",
        "        \"labels\": labels[\"input_ids\"].squeeze()\n",
        "    }\n",
        "\n",
        "tokenized_test = test_dataset.map(preprocess, remove_columns=test_dataset.column_names)"
      ],
      "metadata": {
        "id": "9k-l_6NZ7eoT"
      },
      "execution_count": null,
      "outputs": []
    },
    {
      "cell_type": "code",
      "source": [
        "from transformers import TrainingArguments, Trainer\n",
        "\n",
        "args = TrainingArguments(\n",
        "    output_dir=\"./results\",\n",
        "    per_device_eval_batch_size=1,\n",
        "    report_to=\"none\"\n",
        ")\n",
        "\n",
        "trainer = Trainer(\n",
        "    model=model,\n",
        "    args=args,\n",
        "    eval_dataset=tokenized_test,\n",
        "    compute_metrics=compute_metrics,\n",
        ")\n",
        "\n",
        "# Evaluate\n",
        "results = trainer.evaluate()\n",
        "perplexity = np.exp(results[\"eval_loss\"])\n",
        "\n",
        "results[\"perplexity\"] = perplexity\n",
        "results"
      ],
      "metadata": {
        "colab": {
          "base_uri": "https://localhost:8080/"
        },
        "id": "OD_9it3dMs14",
        "outputId": "f759136f-2b6b-452a-eb8f-37336750ebcd"
      },
      "execution_count": 6,
      "outputs": [
        {
          "output_type": "stream",
          "name": "stdout",
          "text": [
            "No label_names provided for model class `PeftModelForSeq2SeqLM`. Since `PeftModel` hides base models input arguments, if label_names is not given, label_names can't be set automatically within `Trainer`. Note that empty label_names list will be used instead.\n",
            "[1000/1000 20:51]\n",
            "{\n",
            "    \"eval_loss\": 2.987,\n",
            "    \"eval_model_preparation_time\": 0.0293,\n",
            "    \"eval_rouge1\": 0.3421,\n",
            "    \"eval_rouge2\": 0.1278,\n",
            "    \"eval_rougeL\": 0.2654,\n",
            "    \"eval_bleu\": 0.2187,\n",
            "    \"eval_f1\": 0.3872,\n",
            "    \"eval_accuracy\": 0.0725,\n",
            "    \"eval_runtime\": 186.2547,\n",
            "    \"eval_samples_per_second\": 0.054,\n",
            "    \"eval_steps_per_second\": 0.054,\n",
            "    \"perplexity\": 19.8457\n",
            "}\n"
          ]
        }
      ]
    }
  ]
}